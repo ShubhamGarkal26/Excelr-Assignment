{
 "cells": [
  {
   "cell_type": "markdown",
   "id": "c6884fbb",
   "metadata": {},
   "source": [
    "## Hypothesis Testing Exercise"
   ]
  },
  {
   "cell_type": "markdown",
   "id": "e8bfb9b7",
   "metadata": {},
   "source": [
    "### A F&B manager wants to determine whether there is any significant difference in the diameter of the cutlet between two units. A randomly selected sample of cutlets was collected from both units and measured? Analyze the data and draw inferences at 5% significance level. Please state the assumptions and tests that you carried out to check validity of the assumptions. \n",
    "Minitab File : Cutlets.mtw\n"
   ]
  },
  {
   "cell_type": "code",
   "execution_count": 1,
   "id": "5624c9af",
   "metadata": {},
   "outputs": [],
   "source": [
    "import pandas as pd\n",
    "import numpy as np\n",
    "from scipy.stats import f_oneway"
   ]
  },
  {
   "cell_type": "code",
   "execution_count": 2,
   "id": "7733e40a",
   "metadata": {},
   "outputs": [],
   "source": [
    "# Load the data\n",
    "data = pd.read_csv(\"C:\\\\Users\\\\SHUBHAM GARKAL\\\\Downloads\\\\Cutlets.csv\")"
   ]
  },
  {
   "cell_type": "code",
   "execution_count": 3,
   "id": "6255c963",
   "metadata": {},
   "outputs": [],
   "source": [
    "# assume data in two columns named 'Unit1' and 'Unit2'\n",
    "unit_a = data['Unit A'] \n",
    "unit_b = data['Unit B'] "
   ]
  },
  {
   "cell_type": "code",
   "execution_count": 4,
   "id": "d62f40f3",
   "metadata": {},
   "outputs": [],
   "source": [
    "# Perform ANOVA\n",
    "f_statistic, p_value = f_oneway(unit_a, unit_b)"
   ]
  },
  {
   "cell_type": "code",
   "execution_count": 5,
   "id": "a311667f",
   "metadata": {},
   "outputs": [
    {
     "name": "stdout",
     "output_type": "stream",
     "text": [
      "F Statistic: 0.5225394038913932\n",
      "P-value: 0.47223947245995734\n"
     ]
    }
   ],
   "source": [
    "# Print results\n",
    "print(\"F Statistic:\", f_statistic)\n",
    "print(\"P-value:\", p_value)"
   ]
  },
  {
   "cell_type": "code",
   "execution_count": 6,
   "id": "2ddac778",
   "metadata": {},
   "outputs": [
    {
     "name": "stdout",
     "output_type": "stream",
     "text": [
      "Fail to reject null hypothesis. There is no significant difference in the diameter of the cutlet between the two units.\n"
     ]
    }
   ],
   "source": [
    "# Interpret results\n",
    "alpha = 0.05\n",
    "if p_value < alpha:\n",
    "    print(\"Reject null hypothesis. There is a significant difference in the diameter of the cutlet between the two units.\")\n",
    "else:\n",
    "    print(\"Fail to reject null hypothesis. There is no significant difference in the diameter of the cutlet between the two units.\")"
   ]
  },
  {
   "cell_type": "code",
   "execution_count": null,
   "id": "643d41ca",
   "metadata": {},
   "outputs": [],
   "source": []
  },
  {
   "cell_type": "markdown",
   "id": "1f6df258",
   "metadata": {},
   "source": [
    "### A hospital wants to determine whether there is any difference in the average Turn Around Time (TAT) of reports of the laboratories on their preferred list. They collected a random sample and recorded TAT for reports of 4 laboratories. TAT is defined as sample collected to report dispatch.\n",
    "  Analyze the data and determine whether there is any difference in average TAT among the different laboratories at 5% significance level.\n",
    "    Minitab File: LabTAT.mtw\n"
   ]
  },
  {
   "cell_type": "code",
   "execution_count": 7,
   "id": "df6102db",
   "metadata": {},
   "outputs": [],
   "source": [
    "import pandas as pd\n",
    "from scipy import stats"
   ]
  },
  {
   "cell_type": "code",
   "execution_count": 8,
   "id": "c8c685a3",
   "metadata": {},
   "outputs": [],
   "source": [
    "# Load the data\n",
    "df = pd.read_csv(\"C:\\\\Users\\\\SHUBHAM GARKAL\\\\Downloads\\\\LabTAT.csv\")"
   ]
  },
  {
   "cell_type": "code",
   "execution_count": 9,
   "id": "edfc321e",
   "metadata": {},
   "outputs": [],
   "source": [
    "lab1 = pd.DataFrame(df.iloc[:,0])\n",
    "lab2 = pd.DataFrame(df.iloc[:,1])\n",
    "lab3 = pd.DataFrame(df.iloc[:,2])\n",
    "lab4 = pd.DataFrame(df.iloc[:,3])"
   ]
  },
  {
   "cell_type": "code",
   "execution_count": 10,
   "id": "7e77d4d7",
   "metadata": {},
   "outputs": [],
   "source": [
    "# Perform one-way ANOVA test\n",
    "statistic, p_value = stats.f_oneway(lab1, lab2, lab3, lab4)"
   ]
  },
  {
   "cell_type": "code",
   "execution_count": 11,
   "id": "84526b4e",
   "metadata": {},
   "outputs": [
    {
     "name": "stdout",
     "output_type": "stream",
     "text": [
      "F-statistic: [118.70421654]\n",
      "P-value: [2.11567089e-57]\n"
     ]
    }
   ],
   "source": [
    "# Print the results\n",
    "print(\"F-statistic:\", statistic)\n",
    "print(\"P-value:\", p_value)"
   ]
  },
  {
   "cell_type": "code",
   "execution_count": 12,
   "id": "4842493d",
   "metadata": {},
   "outputs": [
    {
     "name": "stdout",
     "output_type": "stream",
     "text": [
      "Reject the null hypothesis. There is a significant difference in average TAT among the laboratories.\n"
     ]
    }
   ],
   "source": [
    "# Interpret the results\n",
    "alpha = 0.05\n",
    "if p_value < alpha:\n",
    "    print(\"Reject the null hypothesis. There is a significant difference in average TAT among the laboratories.\")\n",
    "else:\n",
    "    print(\"Fail to reject the null hypothesis. There is no significant difference in average TAT among the laboratories.\")"
   ]
  },
  {
   "cell_type": "code",
   "execution_count": null,
   "id": "dc6ca415",
   "metadata": {},
   "outputs": [],
   "source": []
  },
  {
   "cell_type": "markdown",
   "id": "4229731d",
   "metadata": {},
   "source": [
    "### Sales of products in four different regions is tabulated for males and females. Find if male-female buyer rations are similar across regions.\n",
    "\tEast\tWest\tNorth\tSouth\n",
    "Males\t50\t142\t131\t70\n",
    "Females\t550\t351\t480\t350\n",
    "\n",
    "H0 = All proportions are equal    Ha = Not all Proportions are equal     \n",
    "1. Check p-value    2. If p-Value < alpha, we reject Null Hypothesis\n"
   ]
  },
  {
   "cell_type": "code",
   "execution_count": 13,
   "id": "6c827c94",
   "metadata": {},
   "outputs": [],
   "source": [
    "import pandas as pd\n",
    "from scipy.stats import chi2_contingency"
   ]
  },
  {
   "cell_type": "code",
   "execution_count": 14,
   "id": "08653b86",
   "metadata": {},
   "outputs": [
    {
     "data": {
      "text/html": [
       "<div>\n",
       "<style scoped>\n",
       "    .dataframe tbody tr th:only-of-type {\n",
       "        vertical-align: middle;\n",
       "    }\n",
       "\n",
       "    .dataframe tbody tr th {\n",
       "        vertical-align: top;\n",
       "    }\n",
       "\n",
       "    .dataframe thead th {\n",
       "        text-align: right;\n",
       "    }\n",
       "</style>\n",
       "<table border=\"1\" class=\"dataframe\">\n",
       "  <thead>\n",
       "    <tr style=\"text-align: right;\">\n",
       "      <th></th>\n",
       "      <th>Observed Values</th>\n",
       "      <th>East</th>\n",
       "      <th>West</th>\n",
       "      <th>North</th>\n",
       "      <th>South</th>\n",
       "    </tr>\n",
       "  </thead>\n",
       "  <tbody>\n",
       "    <tr>\n",
       "      <th>0</th>\n",
       "      <td>Males</td>\n",
       "      <td>50</td>\n",
       "      <td>142</td>\n",
       "      <td>131</td>\n",
       "      <td>70</td>\n",
       "    </tr>\n",
       "    <tr>\n",
       "      <th>1</th>\n",
       "      <td>Females</td>\n",
       "      <td>435</td>\n",
       "      <td>1523</td>\n",
       "      <td>1356</td>\n",
       "      <td>750</td>\n",
       "    </tr>\n",
       "  </tbody>\n",
       "</table>\n",
       "</div>"
      ],
      "text/plain": [
       "  Observed Values  East  West  North  South\n",
       "0           Males    50   142    131     70\n",
       "1         Females   435  1523   1356    750"
      ]
     },
     "execution_count": 14,
     "metadata": {},
     "output_type": "execute_result"
    }
   ],
   "source": [
    "# Load the data\n",
    "data = pd.read_csv(\"C:\\\\Users\\\\SHUBHAM GARKAL\\\\Downloads\\\\BuyerRatio.csv\")\n",
    "data"
   ]
  },
  {
   "cell_type": "code",
   "execution_count": 15,
   "id": "4f45f3b7",
   "metadata": {},
   "outputs": [],
   "source": [
    "# Define the observed frequencies\n",
    "observed_values = [[50, 142, 131, 70],\n",
    "            [550, 351, 480, 350]]"
   ]
  },
  {
   "cell_type": "code",
   "execution_count": 16,
   "id": "5f492989",
   "metadata": {},
   "outputs": [],
   "source": [
    "# Perform chi-square test\n",
    "chi2_stat, p_val, dof, expected_values = chi2_contingency(observed_values)"
   ]
  },
  {
   "cell_type": "code",
   "execution_count": 17,
   "id": "4a3938db",
   "metadata": {},
   "outputs": [],
   "source": [
    "# Define the significance level (alpha)\n",
    "alpha = 0.05"
   ]
  },
  {
   "cell_type": "code",
   "execution_count": 18,
   "id": "a05b4104",
   "metadata": {},
   "outputs": [
    {
     "name": "stdout",
     "output_type": "stream",
     "text": [
      "Chi-square statistic: 80.27295426602495\n",
      "P-value: 2.682172557281901e-17\n",
      "Degrees of freedom: 3\n",
      "Expected values:\n",
      " [[111.01694915  91.21892655 113.05225989  77.71186441]\n",
      " [488.98305085 401.78107345 497.94774011 342.28813559]]\n"
     ]
    }
   ],
   "source": [
    "# Print results\n",
    "print(\"Chi-square statistic:\", chi2_stat)\n",
    "print(\"P-value:\", p_val)\n",
    "print(\"Degrees of freedom:\", dof)\n",
    "print(\"Expected values:\\n\", expected_values)"
   ]
  },
  {
   "cell_type": "code",
   "execution_count": 19,
   "id": "82032203",
   "metadata": {},
   "outputs": [
    {
     "name": "stdout",
     "output_type": "stream",
     "text": [
      "Reject null hypothesis: Not all proportions are equal\n"
     ]
    }
   ],
   "source": [
    "# Check if p-value is less than alpha\n",
    "if p_val < alpha:\n",
    "    print(\"Reject null hypothesis: Not all proportions are equal\")\n",
    "else:\n",
    "    print(\"Fail to reject null hypothesis: All proportions are equal\")"
   ]
  },
  {
   "cell_type": "code",
   "execution_count": null,
   "id": "6164b567",
   "metadata": {},
   "outputs": [],
   "source": []
  },
  {
   "cell_type": "markdown",
   "id": "f97a285d",
   "metadata": {},
   "source": [
    "### TeleCall uses 4 centers around the globe to process customer order forms. They audit a certain %  of the customer order forms. Any error in order form renders it defective and has to be reworked before processing.  The manager wants to check whether the defective %  varies by centre. Please analyze the data at 5% significance level and help the manager draw appropriate inferences\n",
    "Minitab File: CustomerOrderForm.mtw\n",
    "\n"
   ]
  },
  {
   "cell_type": "code",
   "execution_count": 20,
   "id": "9b131b32",
   "metadata": {},
   "outputs": [],
   "source": [
    "import numpy as np\n",
    "import pandas as pd\n",
    "from scipy.stats import chi2_contingency"
   ]
  },
  {
   "cell_type": "code",
   "execution_count": 21,
   "id": "2a254ccb",
   "metadata": {},
   "outputs": [],
   "source": [
    "# Load the data\n",
    "data = pd.read_csv(\"C:\\\\Users\\\\SHUBHAM GARKAL\\\\Downloads\\\\Costomer+OrderForm.csv\")"
   ]
  },
  {
   "cell_type": "code",
   "execution_count": 22,
   "id": "2056c887",
   "metadata": {},
   "outputs": [],
   "source": [
    "# Create a contingency table\n",
    "contingency_table = pd.crosstab(index=data.columns, columns=data.iloc[0])"
   ]
  },
  {
   "cell_type": "code",
   "execution_count": 23,
   "id": "ac3f27c1",
   "metadata": {},
   "outputs": [],
   "source": [
    "# Perform chi-square test\n",
    "chi2, p, dof, expected = chi2_contingency(contingency_table)"
   ]
  },
  {
   "cell_type": "code",
   "execution_count": 24,
   "id": "42da9bbc",
   "metadata": {},
   "outputs": [
    {
     "name": "stdout",
     "output_type": "stream",
     "text": [
      "Chi-square statistic: 4.0\n",
      "p-value: 0.26146412994911117\n"
     ]
    }
   ],
   "source": [
    "# Print the results\n",
    "print(\"Chi-square statistic:\", chi2)\n",
    "print(\"p-value:\", p)"
   ]
  },
  {
   "cell_type": "code",
   "execution_count": 25,
   "id": "ec11e52b",
   "metadata": {},
   "outputs": [
    {
     "name": "stdout",
     "output_type": "stream",
     "text": [
      "Fail to reject null hypothesis: There is no significant evidence that the defective percentage varies by center.\n"
     ]
    }
   ],
   "source": [
    "# Determine significance\n",
    "alpha = 0.05\n",
    "if p <= alpha:\n",
    "    print(\"Reject null hypothesis: There is significant evidence that the defective percentage varies by center.\")\n",
    "else:\n",
    "    print(\"Fail to reject null hypothesis: There is no significant evidence that the defective percentage varies by center.\")"
   ]
  },
  {
   "cell_type": "code",
   "execution_count": null,
   "id": "f123b45c",
   "metadata": {},
   "outputs": [],
   "source": []
  },
  {
   "cell_type": "code",
   "execution_count": null,
   "id": "da891973",
   "metadata": {},
   "outputs": [],
   "source": []
  },
  {
   "cell_type": "code",
   "execution_count": null,
   "id": "42bdb908",
   "metadata": {},
   "outputs": [],
   "source": []
  },
  {
   "cell_type": "code",
   "execution_count": null,
   "id": "14efa6b3",
   "metadata": {},
   "outputs": [],
   "source": []
  }
 ],
 "metadata": {
  "kernelspec": {
   "display_name": "Python 3 (ipykernel)",
   "language": "python",
   "name": "python3"
  },
  "language_info": {
   "codemirror_mode": {
    "name": "ipython",
    "version": 3
   },
   "file_extension": ".py",
   "mimetype": "text/x-python",
   "name": "python",
   "nbconvert_exporter": "python",
   "pygments_lexer": "ipython3",
   "version": "3.11.5"
  }
 },
 "nbformat": 4,
 "nbformat_minor": 5
}
