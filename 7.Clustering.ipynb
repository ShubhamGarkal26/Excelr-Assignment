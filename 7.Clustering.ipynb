{
 "cells": [
  {
   "cell_type": "markdown",
   "id": "af046ce6",
   "metadata": {},
   "source": [
    "# Clustering "
   ]
  },
  {
   "cell_type": "markdown",
   "id": "c316311d",
   "metadata": {},
   "source": [
    "### 1.\tPerform clustering (hierarchical,K means clustering and DBSCAN) for the airlines data to obtain optimum number of clusters. \n",
    "Draw the inferences from the clusters obtained.\n",
    " "
   ]
  },
  {
   "cell_type": "code",
   "execution_count": 1,
   "id": "7fa94553",
   "metadata": {},
   "outputs": [],
   "source": [
    "import pandas as pd\n",
    "import numpy as np\n",
    "import matplotlib.pyplot as plt\n",
    "from sklearn.preprocessing import StandardScaler\n",
    "from sklearn.cluster import AgglomerativeClustering, KMeans, DBSCAN\n",
    "from sklearn.metrics import silhouette_score\n",
    "import warnings \n",
    "warnings.filterwarnings('ignore')"
   ]
  },
  {
   "cell_type": "code",
   "execution_count": 2,
   "id": "ff35270b",
   "metadata": {},
   "outputs": [
    {
     "data": {
      "text/html": [
       "<div>\n",
       "<style scoped>\n",
       "    .dataframe tbody tr th:only-of-type {\n",
       "        vertical-align: middle;\n",
       "    }\n",
       "\n",
       "    .dataframe tbody tr th {\n",
       "        vertical-align: top;\n",
       "    }\n",
       "\n",
       "    .dataframe thead th {\n",
       "        text-align: right;\n",
       "    }\n",
       "</style>\n",
       "<table border=\"1\" class=\"dataframe\">\n",
       "  <thead>\n",
       "    <tr style=\"text-align: right;\">\n",
       "      <th></th>\n",
       "      <th>ID#</th>\n",
       "      <th>Balance</th>\n",
       "      <th>Qual_miles</th>\n",
       "      <th>cc1_miles</th>\n",
       "      <th>cc2_miles</th>\n",
       "      <th>cc3_miles</th>\n",
       "      <th>Bonus_miles</th>\n",
       "      <th>Bonus_trans</th>\n",
       "      <th>Flight_miles_12mo</th>\n",
       "      <th>Flight_trans_12</th>\n",
       "      <th>Days_since_enroll</th>\n",
       "      <th>Award?</th>\n",
       "    </tr>\n",
       "  </thead>\n",
       "  <tbody>\n",
       "    <tr>\n",
       "      <th>0</th>\n",
       "      <td>1</td>\n",
       "      <td>28143</td>\n",
       "      <td>0</td>\n",
       "      <td>1</td>\n",
       "      <td>1</td>\n",
       "      <td>1</td>\n",
       "      <td>174</td>\n",
       "      <td>1</td>\n",
       "      <td>0</td>\n",
       "      <td>0</td>\n",
       "      <td>7000</td>\n",
       "      <td>0</td>\n",
       "    </tr>\n",
       "    <tr>\n",
       "      <th>1</th>\n",
       "      <td>2</td>\n",
       "      <td>19244</td>\n",
       "      <td>0</td>\n",
       "      <td>1</td>\n",
       "      <td>1</td>\n",
       "      <td>1</td>\n",
       "      <td>215</td>\n",
       "      <td>2</td>\n",
       "      <td>0</td>\n",
       "      <td>0</td>\n",
       "      <td>6968</td>\n",
       "      <td>0</td>\n",
       "    </tr>\n",
       "    <tr>\n",
       "      <th>2</th>\n",
       "      <td>3</td>\n",
       "      <td>41354</td>\n",
       "      <td>0</td>\n",
       "      <td>1</td>\n",
       "      <td>1</td>\n",
       "      <td>1</td>\n",
       "      <td>4123</td>\n",
       "      <td>4</td>\n",
       "      <td>0</td>\n",
       "      <td>0</td>\n",
       "      <td>7034</td>\n",
       "      <td>0</td>\n",
       "    </tr>\n",
       "    <tr>\n",
       "      <th>3</th>\n",
       "      <td>4</td>\n",
       "      <td>14776</td>\n",
       "      <td>0</td>\n",
       "      <td>1</td>\n",
       "      <td>1</td>\n",
       "      <td>1</td>\n",
       "      <td>500</td>\n",
       "      <td>1</td>\n",
       "      <td>0</td>\n",
       "      <td>0</td>\n",
       "      <td>6952</td>\n",
       "      <td>0</td>\n",
       "    </tr>\n",
       "    <tr>\n",
       "      <th>4</th>\n",
       "      <td>5</td>\n",
       "      <td>97752</td>\n",
       "      <td>0</td>\n",
       "      <td>4</td>\n",
       "      <td>1</td>\n",
       "      <td>1</td>\n",
       "      <td>43300</td>\n",
       "      <td>26</td>\n",
       "      <td>2077</td>\n",
       "      <td>4</td>\n",
       "      <td>6935</td>\n",
       "      <td>1</td>\n",
       "    </tr>\n",
       "    <tr>\n",
       "      <th>...</th>\n",
       "      <td>...</td>\n",
       "      <td>...</td>\n",
       "      <td>...</td>\n",
       "      <td>...</td>\n",
       "      <td>...</td>\n",
       "      <td>...</td>\n",
       "      <td>...</td>\n",
       "      <td>...</td>\n",
       "      <td>...</td>\n",
       "      <td>...</td>\n",
       "      <td>...</td>\n",
       "      <td>...</td>\n",
       "    </tr>\n",
       "    <tr>\n",
       "      <th>3994</th>\n",
       "      <td>4017</td>\n",
       "      <td>18476</td>\n",
       "      <td>0</td>\n",
       "      <td>1</td>\n",
       "      <td>1</td>\n",
       "      <td>1</td>\n",
       "      <td>8525</td>\n",
       "      <td>4</td>\n",
       "      <td>200</td>\n",
       "      <td>1</td>\n",
       "      <td>1403</td>\n",
       "      <td>1</td>\n",
       "    </tr>\n",
       "    <tr>\n",
       "      <th>3995</th>\n",
       "      <td>4018</td>\n",
       "      <td>64385</td>\n",
       "      <td>0</td>\n",
       "      <td>1</td>\n",
       "      <td>1</td>\n",
       "      <td>1</td>\n",
       "      <td>981</td>\n",
       "      <td>5</td>\n",
       "      <td>0</td>\n",
       "      <td>0</td>\n",
       "      <td>1395</td>\n",
       "      <td>1</td>\n",
       "    </tr>\n",
       "    <tr>\n",
       "      <th>3996</th>\n",
       "      <td>4019</td>\n",
       "      <td>73597</td>\n",
       "      <td>0</td>\n",
       "      <td>3</td>\n",
       "      <td>1</td>\n",
       "      <td>1</td>\n",
       "      <td>25447</td>\n",
       "      <td>8</td>\n",
       "      <td>0</td>\n",
       "      <td>0</td>\n",
       "      <td>1402</td>\n",
       "      <td>1</td>\n",
       "    </tr>\n",
       "    <tr>\n",
       "      <th>3997</th>\n",
       "      <td>4020</td>\n",
       "      <td>54899</td>\n",
       "      <td>0</td>\n",
       "      <td>1</td>\n",
       "      <td>1</td>\n",
       "      <td>1</td>\n",
       "      <td>500</td>\n",
       "      <td>1</td>\n",
       "      <td>500</td>\n",
       "      <td>1</td>\n",
       "      <td>1401</td>\n",
       "      <td>0</td>\n",
       "    </tr>\n",
       "    <tr>\n",
       "      <th>3998</th>\n",
       "      <td>4021</td>\n",
       "      <td>3016</td>\n",
       "      <td>0</td>\n",
       "      <td>1</td>\n",
       "      <td>1</td>\n",
       "      <td>1</td>\n",
       "      <td>0</td>\n",
       "      <td>0</td>\n",
       "      <td>0</td>\n",
       "      <td>0</td>\n",
       "      <td>1398</td>\n",
       "      <td>0</td>\n",
       "    </tr>\n",
       "  </tbody>\n",
       "</table>\n",
       "<p>3999 rows × 12 columns</p>\n",
       "</div>"
      ],
      "text/plain": [
       "       ID#  Balance  Qual_miles  cc1_miles  cc2_miles  cc3_miles  Bonus_miles  \\\n",
       "0        1    28143           0          1          1          1          174   \n",
       "1        2    19244           0          1          1          1          215   \n",
       "2        3    41354           0          1          1          1         4123   \n",
       "3        4    14776           0          1          1          1          500   \n",
       "4        5    97752           0          4          1          1        43300   \n",
       "...    ...      ...         ...        ...        ...        ...          ...   \n",
       "3994  4017    18476           0          1          1          1         8525   \n",
       "3995  4018    64385           0          1          1          1          981   \n",
       "3996  4019    73597           0          3          1          1        25447   \n",
       "3997  4020    54899           0          1          1          1          500   \n",
       "3998  4021     3016           0          1          1          1            0   \n",
       "\n",
       "      Bonus_trans  Flight_miles_12mo  Flight_trans_12  Days_since_enroll  \\\n",
       "0               1                  0                0               7000   \n",
       "1               2                  0                0               6968   \n",
       "2               4                  0                0               7034   \n",
       "3               1                  0                0               6952   \n",
       "4              26               2077                4               6935   \n",
       "...           ...                ...              ...                ...   \n",
       "3994            4                200                1               1403   \n",
       "3995            5                  0                0               1395   \n",
       "3996            8                  0                0               1402   \n",
       "3997            1                500                1               1401   \n",
       "3998            0                  0                0               1398   \n",
       "\n",
       "      Award?  \n",
       "0          0  \n",
       "1          0  \n",
       "2          0  \n",
       "3          0  \n",
       "4          1  \n",
       "...      ...  \n",
       "3994       1  \n",
       "3995       1  \n",
       "3996       1  \n",
       "3997       0  \n",
       "3998       0  \n",
       "\n",
       "[3999 rows x 12 columns]"
      ]
     },
     "execution_count": 2,
     "metadata": {},
     "output_type": "execute_result"
    }
   ],
   "source": [
    "# Load the data\n",
    "data = pd.read_excel(\"C:\\\\Users\\\\SHUBHAM GARKAL\\\\Downloads\\\\EastWestAirlines.xlsx\",sheet_name='data')\n",
    "data"
   ]
  },
  {
   "cell_type": "code",
   "execution_count": 3,
   "id": "dfc526f7",
   "metadata": {},
   "outputs": [],
   "source": [
    "# Dropping ID column as it's not needed for clustering\n",
    "data.drop('ID#', axis=1, inplace=True)"
   ]
  },
  {
   "cell_type": "code",
   "execution_count": 4,
   "id": "34629d87",
   "metadata": {},
   "outputs": [],
   "source": [
    "# Standardize the data\n",
    "scaler = StandardScaler()\n",
    "scaled_data = scaler.fit_transform(data)"
   ]
  },
  {
   "cell_type": "code",
   "execution_count": 5,
   "id": "07721d51",
   "metadata": {},
   "outputs": [],
   "source": [
    "# Hierarchical clustering\n",
    "def hierarchical_clustering(data):\n",
    "    model = AgglomerativeClustering(n_clusters=5, linkage='ward')\n",
    "    clusters = model.fit_predict(data)\n",
    "    return clusters"
   ]
  },
  {
   "cell_type": "code",
   "execution_count": 6,
   "id": "6c256682",
   "metadata": {},
   "outputs": [],
   "source": [
    "# K-means clustering\n",
    "def kmeans_clustering(data):\n",
    "    model = KMeans(n_clusters=5, random_state=42)\n",
    "    clusters = model.fit_predict(data)\n",
    "    return clusters"
   ]
  },
  {
   "cell_type": "code",
   "execution_count": 7,
   "id": "30a8be2a",
   "metadata": {},
   "outputs": [],
   "source": [
    "# DBSCAN clustering\n",
    "def dbscan_clustering(data):\n",
    "    model = DBSCAN(eps=0.5, min_samples=5)\n",
    "    clusters = model.fit_predict(data)\n",
    "    return clusters"
   ]
  },
  {
   "cell_type": "code",
   "execution_count": 8,
   "id": "cbefdba4",
   "metadata": {},
   "outputs": [],
   "source": [
    "# Apply clustering algorithms\n",
    "hierarchical_clusters = hierarchical_clustering(scaled_data)\n",
    "kmeans_clusters = kmeans_clustering(scaled_data)\n",
    "dbscan_clusters = dbscan_clustering(scaled_data)"
   ]
  },
  {
   "cell_type": "code",
   "execution_count": 9,
   "id": "cb677e96",
   "metadata": {},
   "outputs": [
    {
     "name": "stdout",
     "output_type": "stream",
     "text": [
      "Hierarchical Clustering Silhouette Score: 0.3098805307874414\n",
      "K-means Clustering Silhouette Score: 0.3188772727741292\n",
      "DBSCAN Clustering Silhouette Score: -0.07834757831741164\n"
     ]
    }
   ],
   "source": [
    "# Inferences\n",
    "print(\"Hierarchical Clustering Silhouette Score:\", silhouette_score(scaled_data, hierarchical_clusters))\n",
    "print(\"K-means Clustering Silhouette Score:\", silhouette_score(scaled_data, kmeans_clusters))\n",
    "print(\"DBSCAN Clustering Silhouette Score:\", silhouette_score(scaled_data, dbscan_clusters))"
   ]
  },
  {
   "cell_type": "code",
   "execution_count": null,
   "id": "61f620fe",
   "metadata": {},
   "outputs": [],
   "source": []
  },
  {
   "cell_type": "markdown",
   "id": "22814e0e",
   "metadata": {},
   "source": [
    "### 2.\tPerform Clustering(Hierarchical, Kmeans & DBSCAN) for the crime data and identify the number of clusters formed and draw inferences.\n",
    "Data Description:\n",
    "Murder -- Muder rates in different places of United States\n",
    "Assualt- Assualt rate in different places of United States\n",
    "UrbanPop - urban population in different places of United States\n",
    "Rape - Rape rate in different places of United States\n"
   ]
  },
  {
   "cell_type": "code",
   "execution_count": 10,
   "id": "1241e3d3",
   "metadata": {},
   "outputs": [],
   "source": [
    "import pandas as pd\n",
    "import numpy as np\n",
    "import matplotlib.pyplot as plt\n",
    "from sklearn.preprocessing import StandardScaler\n",
    "from sklearn.cluster import AgglomerativeClustering, KMeans, DBSCAN\n",
    "import warnings \n",
    "warnings.filterwarnings('ignore')"
   ]
  },
  {
   "cell_type": "code",
   "execution_count": 11,
   "id": "49147612",
   "metadata": {},
   "outputs": [],
   "source": [
    "# Load the data\n",
    "data = pd.read_csv(\"C:\\\\Users\\\\SHUBHAM GARKAL\\\\Downloads\\\\crime_data.csv\",index_col=0)"
   ]
  },
  {
   "cell_type": "code",
   "execution_count": 12,
   "id": "790048de",
   "metadata": {},
   "outputs": [],
   "source": [
    "# Separate features\n",
    "X = data.iloc[:, :].values"
   ]
  },
  {
   "cell_type": "code",
   "execution_count": 13,
   "id": "e0f316d5",
   "metadata": {},
   "outputs": [],
   "source": [
    "# Standardize the features\n",
    "scaler = StandardScaler()\n",
    "X_scaled = scaler.fit_transform(X)"
   ]
  },
  {
   "cell_type": "code",
   "execution_count": 14,
   "id": "f4f9971a",
   "metadata": {},
   "outputs": [],
   "source": [
    "# Hierarchical Clustering\n",
    "hierarchical_cluster = AgglomerativeClustering(n_clusters=3)\n",
    "hierarchical_labels = hierarchical_cluster.fit_predict(X_scaled)"
   ]
  },
  {
   "cell_type": "code",
   "execution_count": 15,
   "id": "8bd6f71e",
   "metadata": {},
   "outputs": [],
   "source": [
    "# K-means Clustering\n",
    "kmeans_cluster = KMeans(n_clusters=3, random_state=42)\n",
    "kmeans_labels = kmeans_cluster.fit_predict(X_scaled)"
   ]
  },
  {
   "cell_type": "code",
   "execution_count": 16,
   "id": "97a79335",
   "metadata": {},
   "outputs": [],
   "source": [
    "# DBSCAN Clustering\n",
    "dbscan_cluster = DBSCAN(eps=0.5, min_samples=5)\n",
    "dbscan_labels = dbscan_cluster.fit_predict(X_scaled)"
   ]
  },
  {
   "cell_type": "code",
   "execution_count": 17,
   "id": "cd6a1c32",
   "metadata": {},
   "outputs": [],
   "source": [
    "# Add cluster labels to the original dataframe\n",
    "data['Hierarchical_Cluster'] = hierarchical_labels\n",
    "data['KMeans_Cluster'] = kmeans_labels\n",
    "data['DBSCAN_Cluster'] = dbscan_labels"
   ]
  },
  {
   "cell_type": "code",
   "execution_count": 18,
   "id": "7628d737",
   "metadata": {},
   "outputs": [],
   "source": [
    "# Inferences\n",
    "hierarchical_clusters = data.groupby('Hierarchical_Cluster').mean()\n",
    "kmeans_clusters = data.groupby('KMeans_Cluster').mean()\n",
    "dbscan_clusters = data.groupby('DBSCAN_Cluster').mean()"
   ]
  },
  {
   "cell_type": "code",
   "execution_count": 19,
   "id": "28baab36",
   "metadata": {},
   "outputs": [
    {
     "name": "stdout",
     "output_type": "stream",
     "text": [
      "Hierarchical Clustering:\n",
      "                         Murder     Assault   UrbanPop       Rape  \\\n",
      "Hierarchical_Cluster                                                \n",
      "0                     12.331579  259.315789  68.315789  29.215789   \n",
      "1                      6.210526  142.052632  71.263158  19.184211   \n",
      "2                      3.091667   76.000000  52.083333  11.833333   \n",
      "\n",
      "                      KMeans_Cluster  DBSCAN_Cluster  \n",
      "Hierarchical_Cluster                                  \n",
      "0                           1.000000            -1.0  \n",
      "1                           0.263158            -1.0  \n",
      "2                           2.000000            -1.0  \n",
      "\n",
      "K-means Clustering:\n",
      "                   Murder  Assault   UrbanPop      Rape  Hierarchical_Cluster  \\\n",
      "KMeans_Cluster                                                                  \n",
      "0                5.656250  138.875  73.875000  18.78125              1.000000   \n",
      "1               12.165000  255.250  68.400000  29.16500              0.050000   \n",
      "2                3.971429   86.500  51.928571  12.70000              1.857143   \n",
      "\n",
      "                DBSCAN_Cluster  \n",
      "KMeans_Cluster                  \n",
      "0                         -1.0  \n",
      "1                         -1.0  \n",
      "2                         -1.0  \n",
      "\n",
      "DBSCAN Clustering:\n",
      "                Murder  Assault  UrbanPop    Rape  Hierarchical_Cluster  \\\n",
      "DBSCAN_Cluster                                                            \n",
      "-1               7.788   170.76     65.54  21.232                  0.86   \n",
      "\n",
      "                KMeans_Cluster  \n",
      "DBSCAN_Cluster                  \n",
      "-1                        0.96  \n"
     ]
    }
   ],
   "source": [
    "print(\"Hierarchical Clustering:\")\n",
    "print(hierarchical_clusters)\n",
    "print(\"\\nK-means Clustering:\")\n",
    "print(kmeans_clusters)\n",
    "print(\"\\nDBSCAN Clustering:\")\n",
    "print(dbscan_clusters)"
   ]
  },
  {
   "cell_type": "code",
   "execution_count": 20,
   "id": "09b8069e",
   "metadata": {},
   "outputs": [
    {
     "data": {
      "image/png": "[encoded data removed]",
      "text/plain": [
       "<Figure size 1500x500 with 3 Axes>"
      ]
     },
     "metadata": {},
     "output_type": "display_data"
    }
   ],
   "source": [
    "# Plotting\n",
    "plt.figure(figsize=(15, 5))\n",
    "plt.subplot(1, 3, 1)\n",
    "plt.scatter(X_scaled[:, 0], X_scaled[:, 1], c=hierarchical_labels, cmap='viridis')\n",
    "plt.title('Hierarchical Clustering')\n",
    "plt.subplot(1, 3, 2)\n",
    "plt.scatter(X_scaled[:, 0], X_scaled[:, 1], c=kmeans_labels, cmap='viridis')\n",
    "plt.title('K-means Clustering')\n",
    "plt.subplot(1, 3, 3)\n",
    "plt.scatter(X_scaled[:, 0], X_scaled[:, 1], c=dbscan_labels, cmap='viridis')\n",
    "plt.title('DBSCAN Clustering')\n",
    "plt.show()"
   ]
  },
  {
   "cell_type": "code",
   "execution_count": null,
   "id": "633fc875",
   "metadata": {},
   "outputs": [],
   "source": []
  },
  {
   "cell_type": "code",
   "execution_count": null,
   "id": "5dd27721",
   "metadata": {},
   "outputs": [],
   "source": []
  },
  {
   "cell_type": "code",
   "execution_count": null,
   "id": "7fa24f2e",
   "metadata": {},
   "outputs": [],
   "source": []
  }
 ],
 "metadata": {
  "kernelspec": {
   "display_name": "Python 3 (ipykernel)",
   "language": "python",
   "name": "python3"
  },
  "language_info": {
   "codemirror_mode": {
    "name": "ipython",
    "version": 3
   },
   "file_extension": ".py",
   "mimetype": "text/x-python",
   "name": "python",
   "nbconvert_exporter": "python",
   "pygments_lexer": "ipython3",
   "version": "3.11.5"
  }
 },
 "nbformat": 4,
 "nbformat_minor": 5
}
