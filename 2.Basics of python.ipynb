{
 "cells": [
  {
   "cell_type": "markdown",
   "id": "8916c7e4",
   "metadata": {},
   "source": [
    "# Basics of python"
   ]
  },
  {
   "cell_type": "markdown",
   "id": "ddcc1ee8",
   "metadata": {},
   "source": [
    "### Exercise 1: Prime Numbers\n",
    "Write a Python program that checks whether a given number is prime or not. A prime number is a natural number greater than 1 that has no positive divisors other than 1 and itself.\n",
    " \n"
   ]
  },
  {
   "cell_type": "code",
   "execution_count": 1,
   "id": "cdd9a65c",
   "metadata": {},
   "outputs": [],
   "source": [
    "def is_prime(number):\n",
    "    if number <= 1:\n",
    "        return False\n",
    "    for i in range(2, int(number ** 0.5) + 1):\n",
    "        if number % i == 0:\n",
    "            return False\n",
    "    return True"
   ]
  },
  {
   "cell_type": "code",
   "execution_count": 3,
   "id": "46d0ea9e",
   "metadata": {},
   "outputs": [
    {
     "name": "stdout",
     "output_type": "stream",
     "text": [
      "Enter a number: 12\n"
     ]
    }
   ],
   "source": [
    "# Taking input from the user\n",
    "num = int(input(\"Enter a number: \"))"
   ]
  },
  {
   "cell_type": "code",
   "execution_count": 4,
   "id": "4733c328",
   "metadata": {},
   "outputs": [
    {
     "name": "stdout",
     "output_type": "stream",
     "text": [
      "12 is not a prime number\n"
     ]
    }
   ],
   "source": [
    "# Checking if the number is prime or not\n",
    "if is_prime(num):\n",
    "    print(num, \"is a prime number\")\n",
    "else:\n",
    "    print(num, \"is not a prime number\")"
   ]
  },
  {
   "cell_type": "markdown",
   "id": "fdfaff26",
   "metadata": {},
   "source": [
    "### Exercise 2: Product of Random Numbers\n",
    "Develop a Python program that generates two random numbers and asks the user to enter the product of these numbers. The program should then check if the user's answer is correct and display an appropriate message.\n"
   ]
  },
  {
   "cell_type": "code",
   "execution_count": 5,
   "id": "5992380d",
   "metadata": {},
   "outputs": [],
   "source": [
    "import random"
   ]
  },
  {
   "cell_type": "code",
   "execution_count": 10,
   "id": "4e4e63d0",
   "metadata": {},
   "outputs": [],
   "source": [
    "def generate_random_numbers():\n",
    "    num1 = random.randint(1, 10)\n",
    "    num2 = random.randint(1, 10)\n",
    "    return num1, num2"
   ]
  },
  {
   "cell_type": "code",
   "execution_count": 14,
   "id": "896eda26",
   "metadata": {},
   "outputs": [],
   "source": [
    "def main():\n",
    "    num1, num2 = generate_random_numbers()\n",
    "    product = num1 * num2\n",
    "    \n",
    "    user_answer = int(input(f\"What is the product of {num1} and {num2}? \"))\n",
    "    \n",
    "    if user_answer == product:\n",
    "        print(\"Congratulations! Your answer is correct.\")\n",
    "    else:\n",
    "        print(f\"Sorry, the correct answer is {product}.\")"
   ]
  },
  {
   "cell_type": "code",
   "execution_count": 15,
   "id": "89cc29f2",
   "metadata": {},
   "outputs": [
    {
     "name": "stdout",
     "output_type": "stream",
     "text": [
      "What is the product of 9 and 1? 9\n",
      "Congratulations! Your answer is correct.\n"
     ]
    }
   ],
   "source": [
    "if __name__ == \"__main__\":\n",
    "    main()"
   ]
  },
  {
   "cell_type": "markdown",
   "id": "f1459328",
   "metadata": {},
   "source": [
    "### Exercise 3: Squares of Even/Odd Numbers\n",
    "Create a Python script that prints the squares of all even or odd numbers within the range of 100 to 200. Choose either even or odd numbers and document your choice in the code.\n"
   ]
  },
  {
   "cell_type": "code",
   "execution_count": 16,
   "id": "df5c0db3",
   "metadata": {},
   "outputs": [
    {
     "name": "stdout",
     "output_type": "stream",
     "text": [
      "10000\n",
      "10404\n",
      "10816\n",
      "11236\n",
      "11664\n",
      "12100\n",
      "12544\n",
      "12996\n",
      "13456\n",
      "13924\n",
      "14400\n",
      "14884\n",
      "15376\n",
      "15876\n",
      "16384\n",
      "16900\n",
      "17424\n",
      "17956\n",
      "18496\n",
      "19044\n",
      "19600\n",
      "20164\n",
      "20736\n",
      "21316\n",
      "21904\n",
      "22500\n",
      "23104\n",
      "23716\n",
      "24336\n",
      "24964\n",
      "25600\n",
      "26244\n",
      "26896\n",
      "27556\n",
      "28224\n",
      "28900\n",
      "29584\n",
      "30276\n",
      "30976\n",
      "31684\n",
      "32400\n",
      "33124\n",
      "33856\n",
      "34596\n",
      "35344\n",
      "36100\n",
      "36864\n",
      "37636\n",
      "38416\n",
      "39204\n",
      "40000\n"
     ]
    }
   ],
   "source": [
    "# Printing squares of even numbers within the range of 100 to 200\n",
    "\n",
    "# Choosing even numbers\n",
    "\n",
    "# We'll iterate through the range of 100 to 200 and select only even numbers for squaring\n",
    "\n",
    "for num in range(100, 201):\n",
    "    if num % 2 == 0:  # Checking if the number is even\n",
    "        print(num ** 2)"
   ]
  },
  {
   "cell_type": "markdown",
   "id": "5f0b6210",
   "metadata": {},
   "source": [
    "### Exercise 4: Word counter\n",
    "write a program to count the number of words in a given text.\n",
    "example:\n",
    "input_text = \"This is a sample text. This text will be used to demonstrate the word counter.\"\n",
    "Expected output:\n",
    "'This': 2 \n",
    "'is': 1\n",
    "'a': 1\n",
    "'sample': 1\n",
    "'text.': 1\n"
   ]
  },
  {
   "cell_type": "code",
   "execution_count": 23,
   "id": "4c758843",
   "metadata": {},
   "outputs": [],
   "source": [
    "def count_words(text):\n",
    "    # Split the text into words\n",
    "    words = text.split()\n",
    "    \n",
    "    # Create an empty dictionary to store word counts\n",
    "    word_count = {}\n",
    "    \n",
    "    # Iterate through each word and update its count in the dictionary\n",
    "    for word in words:\n",
    "        word = word.strip('.,!?:;\"\\'').lower()  # Remove punctuation and convert to lowercase\n",
    "        if word in word_count:\n",
    "            word_count[word] += 1\n",
    "        else:\n",
    "            word_count[word] = 1\n",
    "    \n",
    "    # Print the word counts\n",
    "    for word, count in word_count.items():\n",
    "        print(f\"'{word}': {count}\")"
   ]
  },
  {
   "cell_type": "code",
   "execution_count": 24,
   "id": "a8fa9b99",
   "metadata": {},
   "outputs": [
    {
     "name": "stdout",
     "output_type": "stream",
     "text": [
      "'this': 2\n",
      "'is': 1\n",
      "'a': 1\n",
      "'sample': 1\n",
      "'text': 2\n",
      "'will': 1\n",
      "'be': 1\n",
      "'used': 1\n",
      "'to': 1\n",
      "'demonstrate': 1\n",
      "'the': 1\n",
      "'word': 1\n",
      "'counter': 1\n"
     ]
    }
   ],
   "source": [
    "# Example usage\n",
    "input_text = \"This is a sample text. This text will be used to demonstrate the word counter.\"\n",
    "count_words(input_text)"
   ]
  },
  {
   "cell_type": "markdown",
   "id": "bcfdfbcf",
   "metadata": {},
   "source": [
    "### Exercise 5: Check for Palindrome\n",
    "Write a Python function called is_palindrome that takes a string as input and returns True if the string is a palindrome, and False otherwise. A palindrome is a word, phrase, number, or other sequence of characters that reads the same forward and backward, ignoring spaces, punctuation, and capitalization.\n",
    "Example:\n",
    "Input: \"racecar\"\n",
    "Expected Output: True\n"
   ]
  },
  {
   "cell_type": "code",
   "execution_count": 25,
   "id": "5cc41777",
   "metadata": {},
   "outputs": [],
   "source": [
    "def is_palindrome(s):\n",
    "    # Convert the string to lowercase and remove spaces and punctuation\n",
    "    s = ''.join(char.lower() for char in s if char.isalnum())\n",
    "    # Check if the string equals its reverse\n",
    "    return s == s[::-1]"
   ]
  },
  {
   "cell_type": "code",
   "execution_count": 26,
   "id": "bfd0ab36",
   "metadata": {},
   "outputs": [
    {
     "name": "stdout",
     "output_type": "stream",
     "text": [
      "True\n"
     ]
    }
   ],
   "source": [
    "# Test the function\n",
    "input_string = \"racecar\"\n",
    "print(is_palindrome(input_string))  # Output: True"
   ]
  },
  {
   "cell_type": "code",
   "execution_count": null,
   "id": "00e62c04",
   "metadata": {},
   "outputs": [],
   "source": []
  }
 ],
 "metadata": {
  "kernelspec": {
   "display_name": "Python 3 (ipykernel)",
   "language": "python",
   "name": "python3"
  },
  "language_info": {
   "codemirror_mode": {
    "name": "ipython",
    "version": 3
   },
   "file_extension": ".py",
   "mimetype": "text/x-python",
   "name": "python",
   "nbconvert_exporter": "python",
   "pygments_lexer": "ipython3",
   "version": "3.11.5"
  }
 },
 "nbformat": 4,
 "nbformat_minor": 5
}
